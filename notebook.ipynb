{
 "cells": [
  {
   "cell_type": "code",
   "execution_count": 1,
   "metadata": {},
   "outputs": [
    {
     "name": "stderr",
     "output_type": "stream",
     "text": [
      "/home/hattori-k/.conda/envs/qa/lib/python3.9/site-packages/tqdm/auto.py:22: TqdmWarning: IProgress not found. Please update jupyter and ipywidgets. See https://ipywidgets.readthedocs.io/en/stable/user_install.html\n",
      "  from .autonotebook import tqdm as notebook_tqdm\n",
      "Using custom data configuration default-8a26b48d0a74ff55\n",
      "Reusing dataset json (data/preloaded/json/default-8a26b48d0a74ff55/0.0.0/a3e658c4731e59120d44081ac10bf85dc7e1388126b92338344ce9661907f253)\n",
      "100%|██████████| 3/3 [00:00<00:00, 716.49it/s]\n"
     ]
    },
    {
     "data": {
      "text/plain": [
       "'How Did Project Manager and User Interface introduce the prototype of the remote control?'"
      ]
     },
     "execution_count": 1,
     "metadata": {},
     "output_type": "execute_result"
    }
   ],
   "source": [
    "# データセットの読み込み\n",
    "from datasets import load_dataset\n",
    "data_files = {}\n",
    "for name in [\"train\", \"val\", \"test\"]:\n",
    "    data_files[name] = f\"data/qmsum/{name}.jsonl\" \n",
    "data = load_dataset(\"json\", data_files=data_files, cache_dir=\"data/preloaded\")\n",
    "data[\"train\"][1][\"query\"]"
   ]
  },
  {
   "cell_type": "code",
   "execution_count": 6,
   "metadata": {},
   "outputs": [],
   "source": [
    "# モデルの読み込み\n",
    "from transformers import AutoModelForSeq2SeqLM, AutoTokenizer\n",
    "model_dir = \"facebook/bart-large\"\n",
    "model = AutoModelForSeq2SeqLM.from_pretrained(model_dir)\n",
    "tokenizer = AutoTokenizer.from_pretrained(model_dir)"
   ]
  },
  {
   "cell_type": "code",
   "execution_count": 19,
   "metadata": {},
   "outputs": [
    {
     "name": "stderr",
     "output_type": "stream",
     "text": [
      "Token indices sequence length is longer than the specified maximum sequence length for this model (5747 > 1024). Running this sequence through the model will result in indexing errors\n"
     ]
    },
    {
     "data": {
      "image/png": "[encoded data removed]",
      "text/plain": [
       "<Figure size 1000x350 with 3 Axes>"
      ]
     },
     "metadata": {},
     "output_type": "display_data"
    }
   ],
   "source": [
    "# データセットの確認\n",
    "import matplotlib.pyplot as plt\n",
    "\n",
    "s_len = [len(tokenizer.encode(s)) for s in data[\"train\"][\"source\"]]\n",
    "q_len = [len(tokenizer.encode(s)) for s in data[\"train\"][\"query\"]]\n",
    "t_len = [len(tokenizer.encode(s)) for s in data[\"train\"][\"target\"]]\n",
    "\n",
    "fig, axes = plt.subplots(1, 3, figsize=(10, 3.5), sharey=True)\n",
    "axes[0].hist(s_len, bins=20, color=\"C0\", edgecolor=\"C0\")\n",
    "axes[0].set_title(\"Source Token Length\")\n",
    "axes[0].set_xlabel(\"Length\")\n",
    "axes[0].set_ylabel(\"Count\")\n",
    "axes[1].hist(q_len, bins=20, color=\"C0\", edgecolor=\"C0\")\n",
    "axes[1].set_title(\"Query Token Length\")\n",
    "axes[1].set_xlabel(\"Length\")\n",
    "axes[2].hist(t_len, bins=20, color=\"C0\", edgecolor=\"C0\")\n",
    "axes[2].set_title(\"Target Token Length\")\n",
    "axes[2].set_xlabel(\"Length\")\n",
    "plt.tight_layout()\n",
    "plt.show()"
   ]
  },
  {
   "cell_type": "code",
   "execution_count": 17,
   "metadata": {},
   "outputs": [
    {
     "name": "stderr",
     "output_type": "stream",
     "text": [
      "100%|██████████| 2/2 [00:04<00:00,  2.35s/ba]\n",
      "100%|██████████| 1/1 [00:01<00:00,  1.04s/ba]\n",
      "100%|██████████| 1/1 [00:01<00:00,  1.12s/ba]\n"
     ]
    }
   ],
   "source": [
    "# データのtokenization\n",
    "def tokenize(examples):\n",
    "    inputs = [f\"<s>{query}</s>{source}</s>\" for query, source in zip(examples[\"query\"], examples[\"source\"])]\n",
    "    model_inputs = tokenizer(\n",
    "        inputs,\n",
    "        max_length=tokenizer.model_max_length,\n",
    "        add_special_tokens=False,\n",
    "        truncation=True)\n",
    "\n",
    "    with tokenizer.as_target_tokenizer():\n",
    "        labels = tokenizer(\n",
    "            examples[\"target\"], \n",
    "            max_length=tokenizer.model_max_length,\n",
    "            add_special_tokens=False,\n",
    "            truncation=True)\n",
    "\n",
    "    model_inputs[\"labels\"] = labels[\"input_ids\"]\n",
    "    return model_inputs\n",
    "\n",
    "tokenized_qmsum = data.map(tokenize, batched=True)"
   ]
  },
  {
   "cell_type": "code",
   "execution_count": null,
   "metadata": {},
   "outputs": [],
   "source": [
    "# モデルの訓練・ファインチューニング\n",
    "from transformers import AutoModelForSeq2SeqLM, Seq2SeqTrainingArguments, Seq2SeqTrainer, DataCollatorForSeq2Seq\n",
    "\n",
    "data_collator = DataCollatorForSeq2Seq(tokenizer=tokenizer, model=model)\n",
    "\n",
    "training_args = Seq2SeqTrainingArguments(\n",
    "    output_dir=\"bart-large-qmsum\",\n",
    "    evaluation_strategy=\"epoch\",\n",
    "    learning_rate=2e-5,\n",
    "    per_device_train_batch_size=16,\n",
    "    per_device_eval_batch_size=16,\n",
    "    weight_decay=0.01,\n",
    "    save_total_limit=3,\n",
    "    num_train_epochs=1,\n",
    "    fp16=True,\n",
    "    push_to_hub=True\n",
    ")\n",
    "\n",
    "trainer = Seq2SeqTrainer(\n",
    "    model=model,\n",
    "    args=training_args,\n",
    "    train_dataset=tokenized_qmsum[\"train\"],\n",
    "    eval_dataset=tokenized_qmsum[\"test\"],\n",
    "    tokenizer=tokenizer,\n",
    "    data_collator=data_collator,\n",
    ")\n",
    "\n",
    "trainer.train()"
   ]
  },
  {
   "cell_type": "code",
   "execution_count": 25,
   "metadata": {},
   "outputs": [],
   "source": [
    "from datasets import load_metric\n",
    "rouge_metric = load_metric(\"rouge\")\n"
   ]
  }
 ],
 "metadata": {
  "interpreter": {
   "hash": "69f900a3965c754a26eb9eb820a3df98862b428c61ff66dc953c543ac310815b"
  },
  "kernelspec": {
   "display_name": "Python 3.9.12 ('qa': conda)",
   "language": "python",
   "name": "python3"
  },
  "language_info": {
   "codemirror_mode": {
    "name": "ipython",
    "version": 3
   },
   "file_extension": ".py",
   "mimetype": "text/x-python",
   "name": "python",
   "nbconvert_exporter": "python",
   "pygments_lexer": "ipython3",
   "version": "3.9.12"
  },
  "orig_nbformat": 4
 },
 "nbformat": 4,
 "nbformat_minor": 2
}
